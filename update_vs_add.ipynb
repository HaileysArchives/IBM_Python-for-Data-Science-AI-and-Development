{
 "cells": [
  {
   "cell_type": "markdown",
   "id": "ea72abbc-b1b4-4f87-aeec-79d3100819d5",
   "metadata": {},
   "source": [
    "update()\n",
    "- 딕셔너리(dict)에 사용됨\n",
    "- 여러 키-값 쌍을 한 번에 추가할 수 있다"
   ]
  },
  {
   "cell_type": "code",
   "execution_count": 2,
   "id": "30cb6cd1-c694-4d20-9ac2-999c19bc7d9b",
   "metadata": {},
   "outputs": [
    {
     "name": "stdout",
     "output_type": "stream",
     "text": [
      "{'a': 1, 'b': 3, 'c': 4}\n"
     ]
    }
   ],
   "source": [
    "my_dict = {'a': 1, 'b': 2}\n",
    "my_dict.update({'b': 3, 'c': 4})\n",
    "print(my_dict)"
   ]
  },
  {
   "cell_type": "markdown",
   "id": "de04ef46-fc70-432b-ac18-2203d2647982",
   "metadata": {},
   "source": [
    "- 세트(set)에서도 update() 사용하여 여러 요소 추가 가능"
   ]
  },
  {
   "cell_type": "code",
   "execution_count": 4,
   "id": "5ab3ee4d-b838-4822-a755-944545b93012",
   "metadata": {},
   "outputs": [
    {
     "name": "stdout",
     "output_type": "stream",
     "text": [
      "{1, 2, 3, 4, 5}\n"
     ]
    }
   ],
   "source": [
    "my_set = {1, 2, 3}\n",
    "my_set.update([4, 5])\n",
    "print(my_set)\n"
   ]
  },
  {
   "cell_type": "markdown",
   "id": "53f46ef0-3dbb-45c7-87c9-0c46241d24c4",
   "metadata": {},
   "source": [
    "add()\n",
    "- 오직 세트(set) 자료형에만 적용"
   ]
  },
  {
   "cell_type": "code",
   "execution_count": 6,
   "id": "314dc914-e289-45a5-b1e2-01e51c5a94ff",
   "metadata": {},
   "outputs": [
    {
     "name": "stdout",
     "output_type": "stream",
     "text": [
      "{1, 2, 3, 4}\n"
     ]
    }
   ],
   "source": [
    "my_set = {1, 2, 3}\n",
    "my_set.add(4)\n",
    "print(my_set)\n"
   ]
  },
  {
   "cell_type": "markdown",
   "id": "0e5864c9-5bbb-4ce1-911d-1e1a0d8cbf49",
   "metadata": {},
   "source": [
    "update(): 딕셔너리나 세트에서 여러 요소를 한 번에 추가 또는 수정\n",
    "\n",
    "add(): 세트에서 단일 요소만 추가 "
   ]
  },
  {
   "cell_type": "code",
   "execution_count": null,
   "id": "a5c4abca-20c6-459b-8b1d-e365d022d4a2",
   "metadata": {},
   "outputs": [],
   "source": []
  }
 ],
 "metadata": {
  "kernelspec": {
   "display_name": "Python 3 (ipykernel)",
   "language": "python",
   "name": "python3"
  },
  "language_info": {
   "codemirror_mode": {
    "name": "ipython",
    "version": 3
   },
   "file_extension": ".py",
   "mimetype": "text/x-python",
   "name": "python",
   "nbconvert_exporter": "python",
   "pygments_lexer": "ipython3",
   "version": "3.11.7"
  }
 },
 "nbformat": 4,
 "nbformat_minor": 5
}
