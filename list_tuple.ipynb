{
 "cells": [
  {
   "cell_type": "markdown",
   "id": "b8b631ee-94ec-4847-8b5c-d8c1ba88e6ee",
   "metadata": {},
   "source": [
    "# "
   ]
  },
  {
   "cell_type": "markdown",
   "id": "fa0479ab-74ed-4807-b114-9edba44240e4",
   "metadata": {},
   "source": [
    "insert(): 리스트의 특정 위치에 요소를 삽입하는 메소드"
   ]
  },
  {
   "cell_type": "code",
   "execution_count": 1,
   "id": "58a53e4f-b2b8-485c-b6c9-cd2c2a2a6fa6",
   "metadata": {},
   "outputs": [
    {
     "name": "stdout",
     "output_type": "stream",
     "text": [
      "[1, 2, 6, 3, 4, 5]\n"
     ]
    }
   ],
   "source": [
    "# list_name.insert(index, element) \n",
    "\n",
    "my_list = [1, 2, 3, 4, 5] \n",
    "my_list.insert(2, 6) \n",
    "print(my_list)"
   ]
  },
  {
   "cell_type": "markdown",
   "id": "de11d83f-b8e7-49f7-a515-b96d5fae7f00",
   "metadata": {},
   "source": [
    "pop(): 리스트의 마지막 요소 또는 특정 위치의 요소를 제거하고 반환하는 메소드"
   ]
  },
  {
   "cell_type": "code",
   "execution_count": 14,
   "id": "f3664f66-6654-47f7-bcb7-84a60dac89a5",
   "metadata": {},
   "outputs": [
    {
     "name": "stdout",
     "output_type": "stream",
     "text": [
      "30\n",
      "[10, 20, 40, 50]\n"
     ]
    }
   ],
   "source": [
    "my_list = [10, 20, 30, 40, 50] \n",
    "removed_element = my_list.pop(2) # Removes and returns the element at index 2 \n",
    "print(removed_element) \n",
    "# Output: 30 \n",
    "\n",
    "print(my_list) \n",
    "# Output: [10, 20, 40, 50] "
   ]
  },
  {
   "cell_type": "code",
   "execution_count": 16,
   "id": "dfd9ff80-9b40-4d24-8d30-54c5f12b4f84",
   "metadata": {},
   "outputs": [
    {
     "name": "stdout",
     "output_type": "stream",
     "text": [
      "50\n"
     ]
    }
   ],
   "source": [
    "my_list = [10, 20, 30, 40, 50] \n",
    "removed_element = my_list.pop() # Removes and returns the last element \n",
    "print(removed_element) \n",
    "# Output: 50 "
   ]
  },
  {
   "cell_type": "markdown",
   "id": "e795be1a-c8fa-4d36-8540-5785fd1a26d2",
   "metadata": {},
   "source": [
    "remove():"
   ]
  },
  {
   "cell_type": "code",
   "execution_count": 17,
   "id": "db8f5db1-9463-416d-a712-fa53bb64abb9",
   "metadata": {},
   "outputs": [
    {
     "name": "stdout",
     "output_type": "stream",
     "text": [
      "[10, 20, 40, 50]\n"
     ]
    }
   ],
   "source": [
    "my_list = [10, 20, 30, 40, 50] \n",
    "my_list.remove(30) # Removes the element 30 \n",
    "print(my_list) \n",
    "# Output: [10, 20, 40, 50]"
   ]
  },
  {
   "cell_type": "markdown",
   "id": "f7f5d2d0-8574-42c3-9b4f-d261563902b1",
   "metadata": {},
   "source": [
    "re.search(): import re(정규 표현식 라이브러리) 문자열 안에 있는지 검색하여 첫 번째 매칭되는 결과를 반환\n",
    "find(): 문자열 내에서 특정 문자열이나 문자가 처음 등장하는 인덱스를 반환"
   ]
  },
  {
   "cell_type": "code",
   "execution_count": 8,
   "id": "9d4b7405-af8e-4fa4-9a99-72608a46d1cd",
   "metadata": {},
   "outputs": [
    {
     "name": "stdout",
     "output_type": "stream",
     "text": [
      "패턴을 찾았습니다!\n"
     ]
    }
   ],
   "source": [
    "import re\n",
    "\n",
    "# 문자열에서 'world'라는 패턴이 있는지 검색\n",
    "result = re.search(r\"world\", \"Hello, world!\")\n",
    "\n",
    "if result:\n",
    "    print(\"패턴을 찾았습니다!\")\n",
    "else:\n",
    "    print(\"패턴을 찾지 못했습니다.\")"
   ]
  },
  {
   "cell_type": "code",
   "execution_count": 10,
   "id": "7d3d4a4d-bb2b-49f6-a852-fcd705032260",
   "metadata": {},
   "outputs": [
    {
     "name": "stdout",
     "output_type": "stream",
     "text": [
      "4\n"
     ]
    }
   ],
   "source": [
    "my_string = \"Hello, world!\"\n",
    "index = my_string.find('o')\n",
    "\n",
    "print(index)  # 출력: 4 ('o' 문자가 처음 등장하는 인덱스)"
   ]
  },
  {
   "cell_type": "code",
   "execution_count": 11,
   "id": "f577884b-6c44-489b-92c5-5c182580a89f",
   "metadata": {},
   "outputs": [
    {
     "name": "stdout",
     "output_type": "stream",
     "text": [
      "'s'는 문자열에 있습니다!\n"
     ]
    }
   ],
   "source": [
    "if 's' in 'disco':\n",
    "    print(\"'s'는 문자열에 있습니다!\")\n",
    "else:\n",
    "    print(\"'s'는 문자열에 없습니다.\")"
   ]
  },
  {
   "cell_type": "markdown",
   "id": "f9a84b05-20f7-4ac3-9a47-45ac2c14879e",
   "metadata": {},
   "source": [
    "strip(): 문자열의 양 끝을 '벗겨내다' 혹은 '제거하다'라는 의미에서 유래된 것으로, 문자열의 양쪽에서 공백 또는 지정된 문자를 제거하는 데 사용"
   ]
  },
  {
   "cell_type": "code",
   "execution_count": 13,
   "id": "443736f5-adb7-48e3-8a5d-9d374e2b8380",
   "metadata": {},
   "outputs": [
    {
     "name": "stdout",
     "output_type": "stream",
     "text": [
      "Hello, World!\n"
     ]
    }
   ],
   "source": [
    "# split_array = re.split(r\"\\s\", s2)\n",
    "\n",
    "text = \"   Hello, World!   \"\n",
    "stripped_text = text.strip()\n",
    "print(stripped_text)"
   ]
  },
  {
   "cell_type": "markdown",
   "id": "dccd35e9-5339-47a6-a8f1-2fd341ddf72e",
   "metadata": {},
   "source": [
    "update():"
   ]
  },
  {
   "cell_type": "code",
   "execution_count": 19,
   "id": "0847cb4c-4b81-47bb-8084-a42173133c36",
   "metadata": {},
   "outputs": [
    {
     "ename": "NameError",
     "evalue": "name 'person' is not defined",
     "output_type": "error",
     "traceback": [
      "\u001b[1;31m---------------------------------------------------------------------------\u001b[0m",
      "\u001b[1;31mNameError\u001b[0m                                 Traceback (most recent call last)",
      "Cell \u001b[1;32mIn[19], line 1\u001b[0m\n\u001b[1;32m----> 1\u001b[0m person\u001b[38;5;241m.\u001b[39mupdate({\u001b[38;5;124m\"\u001b[39m\u001b[38;5;124mProfession\u001b[39m\u001b[38;5;124m\"\u001b[39m: \u001b[38;5;124m\"\u001b[39m\u001b[38;5;124mDoctor\u001b[39m\u001b[38;5;124m\"\u001b[39m})\n",
      "\u001b[1;31mNameError\u001b[0m: name 'person' is not defined"
     ]
    }
   ],
   "source": [
    "person.update({\"Profession\": \"Doctor\"})"
   ]
  },
  {
   "cell_type": "code",
   "execution_count": 20,
   "id": "38fa3030-aae6-49f2-b7b7-4f788424b501",
   "metadata": {},
   "outputs": [],
   "source": [
    "# append(): 리스트의 끝에 요소를 추가하는 메소드\n",
    "# extend(): 리스트의 끝에 다른 리스트나 이터러블의 모든 요소를 추가하는 메소드"
   ]
  },
  {
   "cell_type": "code",
   "execution_count": 22,
   "id": "4ec2fc94-575e-403b-b671-7746aa04354f",
   "metadata": {},
   "outputs": [
    {
     "name": "stdout",
     "output_type": "stream",
     "text": [
      "[1, 2, 3, 4, [5, 6]]\n"
     ]
    }
   ],
   "source": [
    "my_list = [1, 2, 3]\n",
    "my_list.append(4)        # [1, 2, 3, 4]\n",
    "my_list.append([5, 6])  # [1, 2, 3, 4, [5, 6]]\n",
    "\n",
    "print(my_list)"
   ]
  },
  {
   "cell_type": "code",
   "execution_count": 24,
   "id": "34684d7c-fa79-4517-9d10-c5169adced24",
   "metadata": {},
   "outputs": [
    {
     "name": "stdout",
     "output_type": "stream",
     "text": [
      "[1, 2, 3, 4, 5, 6]\n"
     ]
    }
   ],
   "source": [
    "my_list = [1, 2, 3]\n",
    "my_list.extend([4, 5, 6])  # [1, 2, 3, 4, 5, 6]\n",
    "\n",
    "print(my_list)"
   ]
  },
  {
   "cell_type": "markdown",
   "id": "e87fef85-292f-4453-b3b9-93dd95a1e619",
   "metadata": {},
   "source": [
    "Keys can also be any immutable object such as a tuple:"
   ]
  },
  {
   "cell_type": "code",
   "execution_count": null,
   "id": "99129f9b-c1e0-4efb-9104-faee9ce2ab11",
   "metadata": {},
   "outputs": [],
   "source": [
    "#Type your code here\n",
    "\n",
    "if 'ProductNo1_releaseYear' in inventory:\n",
    "    del inventory['ProductNo1_releaseYear']\n",
    "\n",
    "if 'ProductNo2_releaseYear' in inventory:\n",
    "    del inventory['ProductNo2_releaseYear']\n",
    "\n",
    "print(inventory)"
   ]
  }
 ],
 "metadata": {
  "kernelspec": {
   "display_name": "Python 3 (ipykernel)",
   "language": "python",
   "name": "python3"
  },
  "language_info": {
   "codemirror_mode": {
    "name": "ipython",
    "version": 3
   },
   "file_extension": ".py",
   "mimetype": "text/x-python",
   "name": "python",
   "nbconvert_exporter": "python",
   "pygments_lexer": "ipython3",
   "version": "3.11.7"
  }
 },
 "nbformat": 4,
 "nbformat_minor": 5
}
